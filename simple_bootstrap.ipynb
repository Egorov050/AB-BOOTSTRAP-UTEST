{
 "cells": [
  {
   "cell_type": "code",
   "execution_count": 363,
   "id": "c716492a-bbcf-42e4-bd86-b71717ecfc1f",
   "metadata": {},
   "outputs": [],
   "source": [
    "import pandas as pd\n",
    "import seaborn as sns\n",
    "import numpy as np\n",
    "from tqdm import tqdm\n",
    "import matplotlib.pyplot as plt\n",
    "%matplotlib inline\n",
    "from pandas_profiling import ProfileReport\n",
    "import scipy.stats as stats\n",
    "from statsmodels.stats.proportion import proportions_ztest"
   ]
  },
  {
   "cell_type": "markdown",
   "id": "428e956c-a0b0-45ea-8044-73c2bad697d1",
   "metadata": {},
   "source": [
    "#### This is just the simple example of bootstrap with little data preparation and no EDA"
   ]
  },
  {
   "cell_type": "code",
   "execution_count": 305,
   "id": "000ed1a3-073e-4e99-8c9f-ad325686c50a",
   "metadata": {},
   "outputs": [],
   "source": [
    "df = pd.read_csv('/Users/vladimiregorov/Downloads/AB_Test_Results.csv')"
   ]
  },
  {
   "cell_type": "code",
   "execution_count": 357,
   "id": "564a3d9e-272e-460e-a19e-3d4bbf2b7d04",
   "metadata": {},
   "outputs": [
    {
     "data": {
      "text/plain": [
       "(9999, 3)"
      ]
     },
     "execution_count": 357,
     "metadata": {},
     "output_type": "execute_result"
    }
   ],
   "source": [
    "df.shape"
   ]
  },
  {
   "cell_type": "code",
   "execution_count": 306,
   "id": "a88d6230-5aca-4b7a-99b6-df709225ce1c",
   "metadata": {},
   "outputs": [
    {
     "data": {
      "text/html": [
       "<div>\n",
       "<style scoped>\n",
       "    .dataframe tbody tr th:only-of-type {\n",
       "        vertical-align: middle;\n",
       "    }\n",
       "\n",
       "    .dataframe tbody tr th {\n",
       "        vertical-align: top;\n",
       "    }\n",
       "\n",
       "    .dataframe thead th {\n",
       "        text-align: right;\n",
       "    }\n",
       "</style>\n",
       "<table border=\"1\" class=\"dataframe\">\n",
       "  <thead>\n",
       "    <tr style=\"text-align: right;\">\n",
       "      <th></th>\n",
       "      <th>USER_ID</th>\n",
       "      <th>VARIANT_NAME</th>\n",
       "      <th>REVENUE</th>\n",
       "    </tr>\n",
       "  </thead>\n",
       "  <tbody>\n",
       "    <tr>\n",
       "      <th>0</th>\n",
       "      <td>737</td>\n",
       "      <td>variant</td>\n",
       "      <td>0.0</td>\n",
       "    </tr>\n",
       "    <tr>\n",
       "      <th>1</th>\n",
       "      <td>2423</td>\n",
       "      <td>control</td>\n",
       "      <td>0.0</td>\n",
       "    </tr>\n",
       "    <tr>\n",
       "      <th>2</th>\n",
       "      <td>9411</td>\n",
       "      <td>control</td>\n",
       "      <td>0.0</td>\n",
       "    </tr>\n",
       "    <tr>\n",
       "      <th>3</th>\n",
       "      <td>7311</td>\n",
       "      <td>control</td>\n",
       "      <td>0.0</td>\n",
       "    </tr>\n",
       "    <tr>\n",
       "      <th>4</th>\n",
       "      <td>6174</td>\n",
       "      <td>variant</td>\n",
       "      <td>0.0</td>\n",
       "    </tr>\n",
       "  </tbody>\n",
       "</table>\n",
       "</div>"
      ],
      "text/plain": [
       "   USER_ID VARIANT_NAME  REVENUE\n",
       "0      737      variant      0.0\n",
       "1     2423      control      0.0\n",
       "2     9411      control      0.0\n",
       "3     7311      control      0.0\n",
       "4     6174      variant      0.0"
      ]
     },
     "execution_count": 306,
     "metadata": {},
     "output_type": "execute_result"
    }
   ],
   "source": [
    "df.head()"
   ]
  },
  {
   "cell_type": "code",
   "execution_count": 307,
   "id": "ef19906f-7279-48f6-8613-650209a61f37",
   "metadata": {},
   "outputs": [],
   "source": [
    "df = df.rename(columns = {'USER_ID' : 'user_id', 'VARIANT_NAME' : 'sample', 'REVENUE' : 'revenue'})"
   ]
  },
  {
   "cell_type": "markdown",
   "id": "b85c953f-8831-4eac-b0a9-d3f5458dbb85",
   "metadata": {},
   "source": [
    "#### Let's see if there are any outliers in both control and test samples"
   ]
  },
  {
   "cell_type": "code",
   "execution_count": 308,
   "id": "e557219f-7651-4d74-9db9-fb569ab85683",
   "metadata": {},
   "outputs": [
    {
     "data": {
      "image/png": "[encoded data removed]",
      "text/plain": [
       "<Figure size 640x480 with 1 Axes>"
      ]
     },
     "metadata": {},
     "output_type": "display_data"
    }
   ],
   "source": [
    "plt.boxplot(df.loc[df['sample'] == 'variant', 'revenue'])\n",
    "plt.show()"
   ]
  },
  {
   "cell_type": "code",
   "execution_count": 309,
   "id": "05f8bf05-f692-46e7-ad2d-75b0fe45a7e5",
   "metadata": {},
   "outputs": [
    {
     "data": {
      "image/png": "[encoded data removed]",
      "text/plain": [
       "<Figure size 640x480 with 1 Axes>"
      ]
     },
     "metadata": {},
     "output_type": "display_data"
    }
   ],
   "source": [
    "plt.boxplot(df.loc[df['sample'] == 'control', 'revenue'])\n",
    "plt.show()"
   ]
  },
  {
   "cell_type": "markdown",
   "id": "279b5a14-6def-44ed-8cb0-2d0f3ec54bab",
   "metadata": {},
   "source": [
    "#### As we can see thera are some outliers , let's delete them"
   ]
  },
  {
   "cell_type": "code",
   "execution_count": 310,
   "id": "bf96b263-19f4-4f5c-ab49-661d08a3c35c",
   "metadata": {},
   "outputs": [
    {
     "data": {
      "text/html": [
       "<div>\n",
       "<style scoped>\n",
       "    .dataframe tbody tr th:only-of-type {\n",
       "        vertical-align: middle;\n",
       "    }\n",
       "\n",
       "    .dataframe tbody tr th {\n",
       "        vertical-align: top;\n",
       "    }\n",
       "\n",
       "    .dataframe thead th {\n",
       "        text-align: right;\n",
       "    }\n",
       "</style>\n",
       "<table border=\"1\" class=\"dataframe\">\n",
       "  <thead>\n",
       "    <tr style=\"text-align: right;\">\n",
       "      <th></th>\n",
       "      <th>user_id</th>\n",
       "      <th>sample</th>\n",
       "      <th>revenue</th>\n",
       "    </tr>\n",
       "  </thead>\n",
       "  <tbody>\n",
       "    <tr>\n",
       "      <th>0</th>\n",
       "      <td>737</td>\n",
       "      <td>variant</td>\n",
       "      <td>0.00</td>\n",
       "    </tr>\n",
       "    <tr>\n",
       "      <th>6635</th>\n",
       "      <td>3405</td>\n",
       "      <td>control</td>\n",
       "      <td>0.00</td>\n",
       "    </tr>\n",
       "    <tr>\n",
       "      <th>6636</th>\n",
       "      <td>9921</td>\n",
       "      <td>variant</td>\n",
       "      <td>0.00</td>\n",
       "    </tr>\n",
       "    <tr>\n",
       "      <th>6637</th>\n",
       "      <td>442</td>\n",
       "      <td>variant</td>\n",
       "      <td>0.00</td>\n",
       "    </tr>\n",
       "    <tr>\n",
       "      <th>6638</th>\n",
       "      <td>9539</td>\n",
       "      <td>control</td>\n",
       "      <td>0.00</td>\n",
       "    </tr>\n",
       "    <tr>\n",
       "      <th>...</th>\n",
       "      <td>...</td>\n",
       "      <td>...</td>\n",
       "      <td>...</td>\n",
       "    </tr>\n",
       "    <tr>\n",
       "      <th>8168</th>\n",
       "      <td>2166</td>\n",
       "      <td>control</td>\n",
       "      <td>29.32</td>\n",
       "    </tr>\n",
       "    <tr>\n",
       "      <th>9421</th>\n",
       "      <td>6792</td>\n",
       "      <td>control</td>\n",
       "      <td>41.53</td>\n",
       "    </tr>\n",
       "    <tr>\n",
       "      <th>7642</th>\n",
       "      <td>7206</td>\n",
       "      <td>variant</td>\n",
       "      <td>57.46</td>\n",
       "    </tr>\n",
       "    <tr>\n",
       "      <th>6447</th>\n",
       "      <td>2881</td>\n",
       "      <td>variant</td>\n",
       "      <td>58.63</td>\n",
       "    </tr>\n",
       "    <tr>\n",
       "      <th>1437</th>\n",
       "      <td>3342</td>\n",
       "      <td>control</td>\n",
       "      <td>196.01</td>\n",
       "    </tr>\n",
       "  </tbody>\n",
       "</table>\n",
       "<p>10000 rows × 3 columns</p>\n",
       "</div>"
      ],
      "text/plain": [
       "      user_id   sample  revenue\n",
       "0         737  variant     0.00\n",
       "6635     3405  control     0.00\n",
       "6636     9921  variant     0.00\n",
       "6637      442  variant     0.00\n",
       "6638     9539  control     0.00\n",
       "...       ...      ...      ...\n",
       "8168     2166  control    29.32\n",
       "9421     6792  control    41.53\n",
       "7642     7206  variant    57.46\n",
       "6447     2881  variant    58.63\n",
       "1437     3342  control   196.01\n",
       "\n",
       "[10000 rows x 3 columns]"
      ]
     },
     "execution_count": 310,
     "metadata": {},
     "output_type": "execute_result"
    }
   ],
   "source": [
    "df.sort_values('revenue')"
   ]
  },
  {
   "cell_type": "code",
   "execution_count": 311,
   "id": "9c7f4dbf-13be-41cd-be22-9219bc51d7d5",
   "metadata": {},
   "outputs": [],
   "source": [
    "df = df[df['revenue'] < 100]"
   ]
  },
  {
   "cell_type": "markdown",
   "id": "84b7be85-e04a-4986-be7a-750a918edd64",
   "metadata": {},
   "source": [
    "#### Let's look at means"
   ]
  },
  {
   "cell_type": "code",
   "execution_count": 312,
   "id": "d288269b-9a81-461b-afde-af1ad46a1a5b",
   "metadata": {},
   "outputs": [
    {
     "name": "stdout",
     "output_type": "stream",
     "text": [
      "0.07006977671451356\n",
      "0.08970299016656633\n"
     ]
    }
   ],
   "source": [
    "print(df.loc[(df['sample'] == 'variant'), 'revenue'].mean())\n",
    "print(df.loc[(df['sample'] == 'control'), 'revenue'].mean())"
   ]
  },
  {
   "cell_type": "markdown",
   "id": "6f952d63-e2b6-4105-9f19-7d290bdeee62",
   "metadata": {},
   "source": [
    "#### Let's do the test on those, from which users we have the revenue"
   ]
  },
  {
   "cell_type": "code",
   "execution_count": 313,
   "id": "1df4216a-20de-401e-8ff7-2ebbdcc5b4ac",
   "metadata": {},
   "outputs": [],
   "source": [
    "# these are our data we will work with\n",
    "\n",
    "test = np.array(df.loc[(df['sample'] == 'variant') & (df['revenue'] > 0), 'revenue'])\n",
    "control = np.array(df.loc[(df['sample'] == 'control') & (df['revenue'] > 0), 'revenue'])"
   ]
  },
  {
   "cell_type": "code",
   "execution_count": 314,
   "id": "a4ad661e-8a53-4b93-ae94-1e8dce4e49ed",
   "metadata": {},
   "outputs": [
    {
     "name": "stdout",
     "output_type": "stream",
     "text": [
      "4.881527777777778\n",
      "5.6581012658227845\n"
     ]
    }
   ],
   "source": [
    "print(test.mean())\n",
    "print(control.mean())\n"
   ]
  },
  {
   "cell_type": "code",
   "execution_count": 315,
   "id": "ba52920d-2755-455c-9c56-c93f6df0ae3f",
   "metadata": {},
   "outputs": [
    {
     "data": {
      "image/png": "[encoded data removed]",
      "text/plain": [
       "<Figure size 640x480 with 1 Axes>"
      ]
     },
     "metadata": {},
     "output_type": "display_data"
    }
   ],
   "source": [
    "plt.hist(test)\n",
    "plt.show()"
   ]
  },
  {
   "cell_type": "code",
   "execution_count": 316,
   "id": "2c61ac43-0f85-41f6-b758-00a14ac700d9",
   "metadata": {},
   "outputs": [
    {
     "data": {
      "image/png": "[encoded data removed]",
      "text/plain": [
       "<Figure size 640x480 with 1 Axes>"
      ]
     },
     "metadata": {},
     "output_type": "display_data"
    }
   ],
   "source": [
    "plt.hist(control)\n",
    "plt.show()"
   ]
  },
  {
   "cell_type": "markdown",
   "id": "aff5a1ab-de43-45de-a243-d28a91d67a00",
   "metadata": {},
   "source": [
    "#### let's use the bootstrap here. Firstly we will build efronof c.i and then holl c.i (t-value)"
   ]
  },
  {
   "cell_type": "code",
   "execution_count": 317,
   "id": "2f47e9ea-dd1d-455f-86e1-8b8379581079",
   "metadata": {},
   "outputs": [
    {
     "name": "stdout",
     "output_type": "stream",
     "text": [
      "72\n",
      "79\n"
     ]
    }
   ],
   "source": [
    "print(test.size)\n",
    "print(control.size)"
   ]
  },
  {
   "cell_type": "markdown",
   "id": "c0c41954-8ac9-4add-ad3a-b6b103e3e291",
   "metadata": {},
   "source": [
    "#### we will use c.i firstly, where theta is the difference \n",
    "\n",
    "$$\n",
    "(\\theta_{\\text{lower}}, \\theta_{\\text{upper}}) = (\\theta_{\\alpha}, \\theta_{1 - \\alpha})\n",
    "$$"
   ]
  },
  {
   "cell_type": "code",
   "execution_count": 323,
   "id": "8651ecbd-816c-4a40-a8ed-976100a9a673",
   "metadata": {},
   "outputs": [
    {
     "data": {
      "text/plain": [
       "0.7765734880450061"
      ]
     },
     "execution_count": 323,
     "metadata": {},
     "output_type": "execute_result"
    }
   ],
   "source": [
    "theta_hat = control.mean() - test.mean()\n",
    "theta_hat"
   ]
  },
  {
   "cell_type": "code",
   "execution_count": 335,
   "id": "1defc4d7-8d3e-4f5c-9cfe-81b25d5309a4",
   "metadata": {},
   "outputs": [],
   "source": [
    "# bootstrap function\n",
    "\n",
    "def bootstrap(x, q):\n",
    "    samples = np.random.choice(x, size = (72, q), replace = True)\n",
    "    return samples"
   ]
  },
  {
   "cell_type": "code",
   "execution_count": 336,
   "id": "bcd01a40-987a-4c1f-a057-084d5d9cce50",
   "metadata": {},
   "outputs": [],
   "source": [
    "# do bootstrap\n",
    "\n",
    "test_samples = bootstrap(test, 3000)\n",
    "control_samples = bootstrap(control, 3000)"
   ]
  },
  {
   "cell_type": "code",
   "execution_count": 338,
   "id": "44cdd8e3-da27-43f5-8cb6-71d92462dd06",
   "metadata": {},
   "outputs": [
    {
     "data": {
      "text/plain": [
       "(72, 3000)"
      ]
     },
     "execution_count": 338,
     "metadata": {},
     "output_type": "execute_result"
    }
   ],
   "source": [
    "test_samples.shape"
   ]
  },
  {
   "cell_type": "code",
   "execution_count": 340,
   "id": "8425f585-cd59-4ba7-abd6-8984624dbf0e",
   "metadata": {},
   "outputs": [
    {
     "data": {
      "text/plain": [
       "(array([ 27., 202., 440., 630., 592., 497., 296., 168.,  88.,  34.,  13.,\n",
       "          9.,   1.,   3.]),\n",
       " array([ 2.15958333,  2.76078373,  3.36198413,  3.96318452,  4.56438492,\n",
       "         5.16558532,  5.76678571,  6.36798611,  6.96918651,  7.5703869 ,\n",
       "         8.1715873 ,  8.7727877 ,  9.3739881 ,  9.97518849, 10.57638889]),\n",
       " <BarContainer object of 14 artists>)"
      ]
     },
     "execution_count": 340,
     "metadata": {},
     "output_type": "execute_result"
    },
    {
     "data": {
      "image/png": "[encoded data removed]",
      "text/plain": [
       "<Figure size 640x480 with 1 Axes>"
      ]
     },
     "metadata": {},
     "output_type": "display_data"
    }
   ],
   "source": [
    "# extract means\n",
    "\n",
    "test_samples_mean = test_samples.mean(axis = 0)\n",
    "plt.hist(test_samples_mean, bins = 14)"
   ]
  },
  {
   "cell_type": "code",
   "execution_count": 341,
   "id": "ddd83e8a-8e48-4e83-b134-3c2ccdf7e877",
   "metadata": {},
   "outputs": [
    {
     "data": {
      "text/plain": [
       "(array([  4.,  38., 138., 311., 464., 594., 553., 377., 253., 146.,  77.,\n",
       "         29.,  12.,   4.]),\n",
       " array([3.22916667, 3.63166667, 4.03416667, 4.43666667, 4.83916667,\n",
       "        5.24166667, 5.64416667, 6.04666667, 6.44916667, 6.85166667,\n",
       "        7.25416667, 7.65666667, 8.05916667, 8.46166667, 8.86416667]),\n",
       " <BarContainer object of 14 artists>)"
      ]
     },
     "execution_count": 341,
     "metadata": {},
     "output_type": "execute_result"
    },
    {
     "data": {
      "image/png": "[encoded data removed]",
      "text/plain": [
       "<Figure size 640x480 with 1 Axes>"
      ]
     },
     "metadata": {},
     "output_type": "display_data"
    }
   ],
   "source": [
    "# extract means\n",
    "\n",
    "control_samples_mean = control_samples.mean(axis = 0)\n",
    "plt.hist(control_samples_mean, bins = 14)"
   ]
  },
  {
   "cell_type": "code",
   "execution_count": 348,
   "id": "dbd62aca-0071-468c-9761-86a1c24ccf70",
   "metadata": {},
   "outputs": [],
   "source": [
    "theta = control_samples_mean - test_samples_mean\n",
    "theta_hat = control.mean() - test.mean()\n",
    "result = theta - theta_hat"
   ]
  },
  {
   "cell_type": "code",
   "execution_count": 355,
   "id": "50045a32-05a8-4b76-bb85-02603485f343",
   "metadata": {},
   "outputs": [
    {
     "name": "stdout",
     "output_type": "stream",
     "text": [
      "-2.9146880713783387 2.711527206399441\n"
     ]
    }
   ],
   "source": [
    "left = np.quantile(result, 0.025)\n",
    "right = np.quantile(result, 1 - 0.025)\n",
    "print(left, right)"
   ]
  },
  {
   "cell_type": "code",
   "execution_count": 379,
   "id": "320732e3-5722-4555-a969-1deefe421732",
   "metadata": {},
   "outputs": [
    {
     "data": {
      "image/png": "[encoded data removed]",
      "text/plain": [
       "<Figure size 700x700 with 1 Axes>"
      ]
     },
     "metadata": {},
     "output_type": "display_data"
    }
   ],
   "source": [
    "figure =plt.figure(figsize = (7,7))\n",
    "ax = figure.add_subplot()\n",
    "ax.hist(result, bins=30)\n",
    "ax.axvline(left, color='red')\n",
    "ax.axvline(right, color='red')\n",
    "plt.show()"
   ]
  },
  {
   "cell_type": "markdown",
   "id": "dbcf5c15-cafd-43c6-9c1e-158ebac923c5",
   "metadata": {},
   "source": [
    "#### as zero in the c.i we don't reject the H0 about the equality of means"
   ]
  },
  {
   "cell_type": "markdown",
   "id": "a99aa813-7dac-478a-9350-cca454300f61",
   "metadata": {},
   "source": [
    "#### let's count the holla c.i using the formula : \n",
    "\n",
    "$$\n",
    "t_i = \\frac{\\hat{\\theta}^*_i - \\hat{\\theta}}{\\hat{SE}^*_i }\n",
    "$$\n",
    "\n",
    "#### with such c.i : \n",
    "\n",
    "$$\n",
    "[\\hat{\\theta} - t_{1 - \\alpha} * se(\\hat{\\theta}) ; \\hat{\\theta} - t_{\\alpha} * se(\\hat{\\theta})]\n",
    "$$"
   ]
  },
  {
   "cell_type": "code",
   "execution_count": 381,
   "id": "4dceeabb-1c04-4e0d-bc87-c338cd38b9e3",
   "metadata": {},
   "outputs": [],
   "source": [
    "theta = control_samples_mean - test_samples_mean"
   ]
  },
  {
   "cell_type": "code",
   "execution_count": 382,
   "id": "25f0d30a-c419-470d-808c-236a35b0a302",
   "metadata": {},
   "outputs": [],
   "source": [
    "# this will be used in the c.i\n",
    "\n",
    "theta_se = theta.std() / np.sqrt(72)"
   ]
  },
  {
   "cell_type": "code",
   "execution_count": 402,
   "id": "007c332e-37e6-4804-ba11-fcf91e5257e7",
   "metadata": {},
   "outputs": [
    {
     "name": "stderr",
     "output_type": "stream",
     "text": [
      "100%|██████████████████████████████████████████| 72/72 [00:00<00:00, 789.52it/s]\n"
     ]
    }
   ],
   "source": [
    "# let's calculate se fot t-value using bootstrap again :)\n",
    "\n",
    "se_test = []\n",
    "\n",
    "for i in tqdm(test_samples):\n",
    "    test_samples_2 = bootstrap(i, 1000)\n",
    "    means = test_samples_2.mean(axis = 1)\n",
    "    se = means.std() / np.sqrt(72)\n",
    "    se_test.append(se)"
   ]
  },
  {
   "cell_type": "code",
   "execution_count": 403,
   "id": "5b5738ed-3ea9-4be8-9a93-dfc4255362a8",
   "metadata": {},
   "outputs": [
    {
     "name": "stderr",
     "output_type": "stream",
     "text": [
      "100%|██████████████████████████████████████████| 72/72 [00:00<00:00, 784.51it/s]\n"
     ]
    }
   ],
   "source": [
    "se_control = []\n",
    "\n",
    "for i in tqdm(control_samples):\n",
    "    control_samples_2 = bootstrap(i, 1000)\n",
    "    means = control_samples_2.mean(axis = 1)\n",
    "    se = means.std() / np.sqrt(72)\n",
    "    se_control.append(se)"
   ]
  },
  {
   "cell_type": "code",
   "execution_count": 404,
   "id": "1be3d3ab-8a41-4d22-843a-dc4492e9929f",
   "metadata": {},
   "outputs": [
    {
     "data": {
      "text/plain": [
       "3000"
      ]
     },
     "execution_count": 404,
     "metadata": {},
     "output_type": "execute_result"
    }
   ],
   "source": [
    "len(theta)"
   ]
  },
  {
   "cell_type": "code",
   "execution_count": 392,
   "id": "33b114a0-5f57-4052-b6d5-3ee7808897e3",
   "metadata": {},
   "outputs": [],
   "source": [
    "se_diff = np.array(se_control) - np.array(se_test)"
   ]
  },
  {
   "cell_type": "code",
   "execution_count": 405,
   "id": "d4cf32ae-95ec-4732-bc9d-f157c03a4f45",
   "metadata": {},
   "outputs": [],
   "source": [
    "# finaly this is t-statistics\n",
    "\n",
    "t = (np.random.choice(theta, size = 72) - theta_hat) / se_diff"
   ]
  },
  {
   "cell_type": "code",
   "execution_count": 406,
   "id": "08d501e6-a80a-435c-aa2a-5193312a465d",
   "metadata": {},
   "outputs": [],
   "source": [
    "right = theta_hat - np.quantile(t, 0.025)*theta_std\n",
    "left = theta_hat - np.quantile(t, 1-0.025)*theta_std"
   ]
  },
  {
   "cell_type": "code",
   "execution_count": 409,
   "id": "a56b9c28-2970-4dcf-a064-ba549fe37fd2",
   "metadata": {},
   "outputs": [
    {
     "data": {
      "text/plain": [
       "(array([ 1.,  2.,  2.,  7., 10., 13., 13., 15.,  3.,  2.,  2.,  2.]),\n",
       " array([-133.89930988, -113.17636886,  -92.45342784,  -71.73048682,\n",
       "         -51.00754579,  -30.28460477,   -9.56166375,   11.16127727,\n",
       "          31.88421829,   52.60715931,   73.33010033,   94.05304136,\n",
       "         114.77598238]),\n",
       " <BarContainer object of 12 artists>)"
      ]
     },
     "execution_count": 409,
     "metadata": {},
     "output_type": "execute_result"
    },
    {
     "data": {
      "image/png": "[encoded data removed]",
      "text/plain": [
       "<Figure size 640x480 with 1 Axes>"
      ]
     },
     "metadata": {},
     "output_type": "display_data"
    }
   ],
   "source": [
    "plt.hist(t, bins=12)"
   ]
  },
  {
   "cell_type": "code",
   "execution_count": null,
   "id": "0ddafb93-a247-4bb4-a606-c370c3ecf5b3",
   "metadata": {},
   "outputs": [],
   "source": []
  }
 ],
 "metadata": {
  "kernelspec": {
   "display_name": "Python 3 (ipykernel)",
   "language": "python",
   "name": "python3"
  },
  "language_info": {
   "codemirror_mode": {
    "name": "ipython",
    "version": 3
   },
   "file_extension": ".py",
   "mimetype": "text/x-python",
   "name": "python",
   "nbconvert_exporter": "python",
   "pygments_lexer": "ipython3",
   "version": "3.9.12"
  }
 },
 "nbformat": 4,
 "nbformat_minor": 5
}
